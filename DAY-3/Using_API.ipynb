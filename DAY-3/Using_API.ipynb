{
  "cells": [
    {
      "cell_type": "code",
      "execution_count": null,
      "metadata": {
        "id": "--ai6IP_vEbh"
      },
      "outputs": [],
      "source": [
        "import requests\n",
        "import json\n",
        "import logging"
      ]
    },
    {
      "cell_type": "code",
      "execution_count": null,
      "metadata": {
        "colab": {
          "base_uri": "https://localhost:8080/"
        },
        "id": "uHfKFUPXvXyF",
        "outputId": "fe985587-a08d-46a7-ff2e-cecb1279cf8b"
      },
      "outputs": [
        {
          "data": {
            "text/plain": [
              "<Response [200]>"
            ]
          },
          "execution_count": 14,
          "metadata": {},
          "output_type": "execute_result"
        }
      ],
      "source": [
        "response = requests.get(\"https://jsonplaceholder.typicode.com/todos/1\")\n",
        "response"
      ]
    },
    {
      "cell_type": "code",
      "execution_count": 10,
      "metadata": {
        "colab": {
          "base_uri": "https://localhost:8080/"
        },
        "id": "HwAenX34v-Nn",
        "outputId": "03437f27-34d5-4059-d1e1-563b9363cd59"
      },
      "outputs": [
        {
          "data": {
            "text/plain": [
              "200"
            ]
          },
          "execution_count": 10,
          "metadata": {},
          "output_type": "execute_result"
        }
      ],
      "source": [
        "response.status_code\n",
        "#1XX(Informational Responses)\n",
        "# response.status_code = 400"
      ]
    },
    {
      "cell_type": "code",
      "execution_count": 11,
      "metadata": {
        "colab": {
          "base_uri": "https://localhost:8080/"
        },
        "id": "AjSrF9bCwSW9",
        "outputId": "41720c2b-3adc-44a8-e791-5b5160562a08"
      },
      "outputs": [
        {
          "data": {
            "text/plain": [
              "{'userId': 1, 'id': 1, 'title': 'delectus aut autem', 'completed': False}"
            ]
          },
          "execution_count": 11,
          "metadata": {},
          "output_type": "execute_result"
        }
      ],
      "source": [
        "json_response = response.json()\n",
        "json_response"
      ]
    },
    {
      "cell_type": "code",
      "execution_count": 13,
      "metadata": {
        "colab": {
          "base_uri": "https://localhost:8080/"
        },
        "id": "ZyQJxN03xyfE",
        "outputId": "2ff9b675-a4e8-4b05-d09e-d32f3726a676"
      },
      "outputs": [
        {
          "data": {
            "text/plain": [
              "<Response [200]>"
            ]
          },
          "execution_count": 13,
          "metadata": {},
          "output_type": "execute_result"
        }
      ],
      "source": [
        "response2 = requests.get(\"https://jsonplaceholder.typicode.com/todos/2\")\n",
        "response2"
      ]
    },
    {
      "cell_type": "code",
      "execution_count": 15,
      "metadata": {
        "colab": {
          "base_uri": "https://localhost:8080/"
        },
        "id": "wUb4tmtjyREm",
        "outputId": "c7770ada-105f-4a90-901e-a09a4c86986d"
      },
      "outputs": [
        {
          "data": {
            "text/plain": [
              "200"
            ]
          },
          "execution_count": 15,
          "metadata": {},
          "output_type": "execute_result"
        }
      ],
      "source": [
        "response2.status_code"
      ]
    },
    {
      "cell_type": "code",
      "execution_count": 16,
      "metadata": {
        "colab": {
          "base_uri": "https://localhost:8080/"
        },
        "id": "B9LwEeDOyfjv",
        "outputId": "884b2578-4d7c-40d8-b419-bed1d55ca3c3"
      },
      "outputs": [
        {
          "data": {
            "text/plain": [
              "{'userId': 1, 'id': 1, 'title': 'delectus aut autem', 'completed': False}"
            ]
          },
          "execution_count": 16,
          "metadata": {},
          "output_type": "execute_result"
        }
      ],
      "source": [
        "json_response2 = response.json()\n",
        "json_response2"
      ]
    },
    {
      "cell_type": "code",
      "execution_count": 35,
      "metadata": {
        "id": "84r4T9PgyyRp"
      },
      "outputs": [],
      "source": [
        "def get_response(url):\n",
        "    try:\n",
        "        response = requests.get(url)\n",
        "        response.raise_for_status()  #  exception for bad status codes (4xx or 5xx)\n",
        "        return response.json()\n",
        "    except requests.exceptions.RequestException as e:\n",
        "        return f\"Error: {e}\""
      ]
    },
    {
      "cell_type": "code",
      "execution_count": 18,
      "metadata": {
        "id": "Dcy-UhI7zpg4"
      },
      "outputs": [],
      "source": [
        "r3= get_response(\"https://jsonplaceholder.typicode.com/todos/3\")"
      ]
    },
    {
      "cell_type": "code",
      "execution_count": 22,
      "metadata": {
        "colab": {
          "base_uri": "https://localhost:8080/"
        },
        "id": "Sfx5A12Azyk3",
        "outputId": "e2936d45-84f5-4bd9-b843-9e4850efc821"
      },
      "outputs": [
        {
          "data": {
            "text/plain": [
              "{'userId': 1, 'id': 3, 'title': 'fugiat veniam minus', 'completed': False}"
            ]
          },
          "execution_count": 22,
          "metadata": {},
          "output_type": "execute_result"
        }
      ],
      "source": [
        "r3"
      ]
    },
    {
      "cell_type": "code",
      "execution_count": 20,
      "metadata": {
        "colab": {
          "base_uri": "https://localhost:8080/"
        },
        "id": "OEgwSRxIz16P",
        "outputId": "44bfcde3-fad6-42ed-bc9e-bab01e7b43e2"
      },
      "outputs": [
        {
          "data": {
            "text/plain": [
              "{'userId': 1, 'id': 1, 'title': 'delectus aut autem', 'completed': False}"
            ]
          },
          "execution_count": 20,
          "metadata": {},
          "output_type": "execute_result"
        }
      ],
      "source": [
        "json_r3 = response.json()\n",
        "json_r3"
      ]
    },
    {
      "cell_type": "code",
      "execution_count": null,
      "metadata": {
        "id": "IEEQ4-Rt0JSP"
      },
      "outputs": [],
      "source": [
        "urls = [\"https://jsonplaceholder.typicode.com/todos/1\",\"https://jsonplaceholder.typicode.com/todos/2\",\"https://jsonplaceholder.typicode.com/todos/3\",\"https://jsonplaceholder\"]"
      ]
    },
    {
      "cell_type": "code",
      "execution_count": 38,
      "metadata": {
        "colab": {
          "base_uri": "https://localhost:8080/"
        },
        "id": "-ubRes6n1Z2m",
        "outputId": "e00f18c6-5bf3-4cb5-8228-6cccc50a3f4f"
      },
      "outputs": [
        {
          "name": "stdout",
          "output_type": "stream",
          "text": [
            "This is our url:  https://jsonplaceholder.typicode.com/todos/1\n",
            "{'userId': 1, 'id': 1, 'title': 'delectus aut autem', 'completed': False}\n",
            "This is our url:  https://jsonplaceholder.typicode.com/todos/2\n",
            "{'userId': 1, 'id': 2, 'title': 'quis ut nam facilis et officia qui', 'completed': False}\n",
            "This is our url:  https://jsonplaceholder.typicode.com/todos/3\n",
            "{'userId': 1, 'id': 3, 'title': 'fugiat veniam minus', 'completed': False}\n",
            "This is our url:  https://jsonplaceholder\n",
            "Error: HTTPSConnectionPool(host='jsonplaceholder', port=443): Max retries exceeded with url: / (Caused by NameResolutionError(\"<urllib3.connection.HTTPSConnection object at 0x7fd01b1dc610>: Failed to resolve 'jsonplaceholder' ([Errno -2] Name or service not known)\"))\n"
          ]
        }
      ],
      "source": [
        "for url in urls:\n",
        "    print(\"This is our url: \",url)\n",
        "    print(get_response(url))"
      ]
    },
    {
      "cell_type": "code",
      "execution_count": 31,
      "metadata": {
        "id": "QUC9BqLo2M1u"
      },
      "outputs": [],
      "source": [
        " #---------CALCULATOR--------\n",
        "\n",
        "def add(a,b):\n",
        "    return a+b\n",
        "\n",
        "def sub(a,b):\n",
        "    return a-b\n",
        "\n",
        "def multiply(a,b):\n",
        "    return a*b\n",
        "\n",
        "def divide(a,b):\n",
        "        return a/b\n"
      ]
    },
    {
      "cell_type": "code",
      "execution_count": 32,
      "metadata": {
        "colab": {
          "base_uri": "https://localhost:8080/"
        },
        "id": "NZs1py_i2-ip",
        "outputId": "dcda17d0-d99c-441e-abda-71e3c0b1ea49"
      },
      "outputs": [
        {
          "name": "stdout",
          "output_type": "stream",
          "text": [
            "You can't divide by zero!\n"
          ]
        }
      ],
      "source": [
        "try:\n",
        "  print(divide(8,0))\n",
        "except ZeroDivisionError:\n",
        "  print(\"You can't divide by zero!\")"
      ]
    },
    {
      "cell_type": "code",
      "execution_count": null,
      "metadata": {
        "id": "M8E3l50X3LpN"
      },
      "outputs": [],
      "source": []
    }
  ],
  "metadata": {
    "colab": {
      "provenance": []
    },
    "kernelspec": {
      "display_name": "Python 3",
      "name": "python3"
    },
    "language_info": {
      "name": "python"
    }
  },
  "nbformat": 4,
  "nbformat_minor": 0
}
